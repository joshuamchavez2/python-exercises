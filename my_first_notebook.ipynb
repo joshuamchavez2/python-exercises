{
 "cells": [
  {
   "cell_type": "markdown",
   "id": "91282c80",
   "metadata": {},
   "source": [
    "<h1>Notes</h1>\n",
    "\n",
    "Shift+Enter runs code\n",
    "\n",
    "ESC lets u go into command mode\n",
    "\n",
    "M while in command Mode will turn block in Mark Down"
   ]
  },
  {
   "cell_type": "code",
   "execution_count": 7,
   "id": "0a923023",
   "metadata": {},
   "outputs": [
    {
     "name": "stdout",
     "output_type": "stream",
     "text": [
      "This is my first example to run\n"
     ]
    }
   ],
   "source": [
    "print(\"This is my first example to run\")"
   ]
  },
  {
   "cell_type": "code",
   "execution_count": 8,
   "id": "212073ec",
   "metadata": {},
   "outputs": [
    {
     "data": {
      "text/plain": [
       "6"
      ]
     },
     "execution_count": 8,
     "metadata": {},
     "output_type": "execute_result"
    }
   ],
   "source": [
    "1+5"
   ]
  },
  {
   "cell_type": "code",
   "execution_count": 12,
   "id": "e96a7997",
   "metadata": {},
   "outputs": [],
   "source": [
    "def myfunc():\n",
    "    return \"this is my func\""
   ]
  },
  {
   "cell_type": "code",
   "execution_count": 13,
   "id": "4e22cdf0",
   "metadata": {},
   "outputs": [
    {
     "data": {
      "text/plain": [
       "'this is my func'"
      ]
     },
     "execution_count": 13,
     "metadata": {},
     "output_type": "execute_result"
    }
   ],
   "source": [
    "myfunc()"
   ]
  },
  {
   "cell_type": "code",
   "execution_count": null,
   "id": "668aaa55",
   "metadata": {},
   "outputs": [],
   "source": []
  }
 ],
 "metadata": {
  "kernelspec": {
   "display_name": "Python 3",
   "language": "python",
   "name": "python3"
  },
  "language_info": {
   "codemirror_mode": {
    "name": "ipython",
    "version": 3
   },
   "file_extension": ".py",
   "mimetype": "text/x-python",
   "name": "python",
   "nbconvert_exporter": "python",
   "pygments_lexer": "ipython3",
   "version": "3.8.8"
  }
 },
 "nbformat": 4,
 "nbformat_minor": 5
}
