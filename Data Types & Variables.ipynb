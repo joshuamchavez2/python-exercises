{
 "cells": [
  {
   "cell_type": "markdown",
   "id": "b140c6c9",
   "metadata": {},
   "source": [
    "# Python - Data Types, Variables, and Operators Exercises"
   ]
  },
  {
   "cell_type": "code",
   "execution_count": 1,
   "id": "62bff790",
   "metadata": {},
   "outputs": [],
   "source": [
    "# Welcome to python basics.  I came back here to make things look nicer and add comments.  "
   ]
  },
  {
   "cell_type": "markdown",
   "id": "40c73b6f",
   "metadata": {},
   "source": [
    "#### You have rented some movies for your kids: \n",
    "    - The little mermaid (for 3 days)\n",
    "    - Brother Bear (for 5 days, they love it)\n",
    "    - Hercules (1 day, you don't know yet if they're going to like it)\n",
    "    \n",
    "#### If price for a movie per day is 3 dollars, how much will you have to pay?"
   ]
  },
  {
   "cell_type": "code",
   "execution_count": null,
   "id": "e87221c5",
   "metadata": {},
   "outputs": [],
   "source": [
    "def cost_calculator(number_of_days):\n",
    "    '''\n",
    "    Cost calcuator will take the number_of_days and mulitply it by 3 then save it to cost.\n",
    "    Then returns cost\n",
    "    '''\n",
    "    # Creating a cost variable to hold the total cost\n",
    "    cost = number_of_days * 3\n",
    "    return cost"
   ]
  },
  {
   "cell_type": "markdown",
   "id": "e2814970",
   "metadata": {},
   "source": [
    "    Since the rented movies were a total of nine days we can use our cost_calcualtor to return the cost"
   ]
  },
  {
   "cell_type": "code",
   "execution_count": 4,
   "id": "bcf9ad79",
   "metadata": {},
   "outputs": [
    {
     "data": {
      "text/plain": [
       "27"
      ]
     },
     "execution_count": 4,
     "metadata": {},
     "output_type": "execute_result"
    }
   ],
   "source": [
    "cost_calculator(9)"
   ]
  },
  {
   "cell_type": "code",
   "execution_count": 1,
   "id": "de52f2ec",
   "metadata": {},
   "outputs": [
    {
     "name": "stdout",
     "output_type": "stream",
     "text": [
      "A 9 day rental would cost 27 dollars.\n",
      "\n",
      "\n"
     ]
    }
   ],
   "source": [
    "print(f\"A 9 day rental would cost \" + str(cost_calculator(9)) + \" dollars.\\n\\n\")"
   ]
  },
  {
   "cell_type": "markdown",
   "id": "6d9eb31e",
   "metadata": {},
   "source": [
    "#### Suppose you're working as a contractor for 3 companies: Google, Amazon and Facebook, they pay you a different rate per hour.\n",
    "    Google pays 400/hour\n",
    "    Amazon pays 380/hour \n",
    "    Facebook pays 350/hour\n",
    "#### How much will you receive in payment for this week?  You worked 10 hours for Facebook, 6 hours for Google and 4 hours for Amazon."
   ]
  },
  {
   "cell_type": "code",
   "execution_count": 6,
   "id": "45843804",
   "metadata": {},
   "outputs": [],
   "source": [
    "def payment_calculator(facebook_hours, google_hours, amazon_hours):\n",
    "    '''\n",
    "    payment_calculator takes in the total number of hours for facebook, google, and amazon. \n",
    "    It creates a total based on how many hours they worked and the pay rate of each.  \n",
    "    Then returns that total.\n",
    "    '''\n",
    "    # Creating a total using the pay rates\n",
    "    total = (facebook_hours*350) + (google_hours*400) + (amazon_hours*380)\n",
    "    return total"
   ]
  },
  {
   "cell_type": "code",
   "execution_count": 7,
   "id": "517506d2",
   "metadata": {},
   "outputs": [
    {
     "data": {
      "text/plain": [
       "7420"
      ]
     },
     "execution_count": 7,
     "metadata": {},
     "output_type": "execute_result"
    }
   ],
   "source": [
    "payment_calculator(10, 6, 4)"
   ]
  },
  {
   "cell_type": "code",
   "execution_count": 11,
   "id": "f33cbb20",
   "metadata": {},
   "outputs": [
    {
     "name": "stdout",
     "output_type": "stream",
     "text": [
      "10 hours at Facebook, 6 hours at Google, and 4 hours at Amazon would pay $7420 dollars.\n",
      "\n"
     ]
    }
   ],
   "source": [
    "print(\"10 hours at Facebook, 6 hours at Google, and 4 hours at Amazon would pay $\" \\\n",
    "      + str(payment_calculator(10, 6, 4)) + \" dollars.\\n\")"
   ]
  },
  {
   "cell_type": "markdown",
   "id": "6dbdacfa",
   "metadata": {},
   "source": [
    "#### A student can be enrolled to a class only if the class is not full and the class schedule does not conflict with her current schedule."
   ]
  },
  {
   "cell_type": "code",
   "execution_count": 15,
   "id": "48b4f662",
   "metadata": {},
   "outputs": [],
   "source": [
    "def student_enrollment():\n",
    "    '''\n",
    "    student_enrollment prompts the user for two questions.\n",
    "    Is the class full?\n",
    "    and\n",
    "    Does the class schedule does not conflict with her current schedule?\n",
    "    Depending on the answers it will let you know if you can be enrolled or not.  \n",
    "    '''\n",
    "    \n",
    "    print('\\nIs class full? Enter y/n only\\n')\n",
    "    \n",
    "    full = input()\n",
    "    \n",
    "    # If the answer is N or n, then ask the second questions.\n",
    "    if(full == 'N' or full =='n'):\n",
    "        \n",
    "        # Second question\n",
    "        print('\\nDoes the class schedule does not conflict with her current schedule? Enter y/n only\\n') \n",
    "        conflict = input()\n",
    "        \n",
    "        # If the answer is N or n, then student can be enrolled\n",
    "        if(conflict == 'N' or conflict=='n'):\n",
    "            print(\"\\nStudent can be enrolled\\n\")\n",
    "            \n",
    "        # If the answer is Y or y, then prompted the user they cannot enroll.\n",
    "        elif(conflict =='Y' or conflict=='y'):\n",
    "            print(\"\\nStudent cannot be enrolled due to conflicting schedule\\n\")\n",
    "        \n",
    "        # any other answer will restart the enrollment\n",
    "        else:\n",
    "            print(\"\\nPlease make a valid selection.\\n\")\n",
    "            student_enrollment()\n",
    "            \n",
    "    # If the answer is Y or y, then prompted the user they cannot enroll.       \n",
    "    elif(full == 'Y' or full == 'y'):\n",
    "        print(\"\\nStudent cannot be enroleld due to class being full\\n\")\n",
    "        \n",
    "    # any other answer will restart the enrollment\n",
    "    else:\n",
    "        print(\"\\nPlease make a valid selection.\\n\")\n",
    "        student_enrollment()"
   ]
  },
  {
   "cell_type": "code",
   "execution_count": 16,
   "id": "f8900745",
   "metadata": {},
   "outputs": [
    {
     "name": "stdout",
     "output_type": "stream",
     "text": [
      "\n",
      "Is class full? Enter y/n only\n",
      "\n",
      "n\n",
      "\n",
      "Does the class schedule does not conflict with her current schedule? Enter y/n only\n",
      "\n",
      "n\n",
      "\n",
      "Student can be enrolled\n",
      "\n"
     ]
    }
   ],
   "source": [
    "student_enrollment()"
   ]
  },
  {
   "cell_type": "markdown",
   "id": "de19610a",
   "metadata": {},
   "source": [
    "#### A product offer can be applied only if people buys more than 2 items, and the offer has not expired.  Premium members do not need to buy a specific amount of products."
   ]
  },
  {
   "cell_type": "code",
   "execution_count": 20,
   "id": "17608fe3",
   "metadata": {},
   "outputs": [],
   "source": [
    "def two_item_check():\n",
    "    '''\n",
    "    Asking if they bought two items.  If yes, then return True.  If no, return False.\n",
    "    '''\n",
    "\n",
    "    print('\\nDid you buy more than two items? Enter y/n only.\\n')\n",
    "    two_items = input()\n",
    "    if(two_items == 'N' or two_items=='n'):\n",
    "        print('\\nYou cannot recieve the product offer because you need to buy 2 or more items for the product offer.\\n')\n",
    "        return False\n",
    "    elif(two_items == 'Y' or two_items=='y'):\n",
    "        return True\n",
    "    else:\n",
    "        print('\\nPlease enter a valid selection.\\n')\n",
    "        return two_item_check()\n",
    "        \n",
    "\n",
    "def offer_expired_check():\n",
    "    '''\n",
    "    Asking if offer has expired.  If yes, then return Flase.  If no, return True.\n",
    "    '''\n",
    "    \n",
    "    print('\\nIs your offer expired? Enter y/n only.\\n')\n",
    "    offer_expired = input()\n",
    "    if(offer_expired == 'N' or offer_expired=='n'):\n",
    "        return True\n",
    "    elif(offer_expired == 'Y' or offer_expired=='y'):\n",
    "        print('\\nYou cannot recieve the product offer because your offer is expired.\\n')\n",
    "        return False\n",
    "    else:\n",
    "        \n",
    "        print('\\nPlease enter a valid selection.\\n')\n",
    "        return offer_expired_check()\n",
    "\n",
    "def premium_members_check():\n",
    "    '''\n",
    "    Asking if they are premium_members.  If yes, then return True.  If no, return false.\n",
    "    '''\n",
    "   \n",
    "    print('\\nAre you a premium member? Enter y/n only.\\n')\n",
    "    premium_member = input()\n",
    "    if(premium_member=='Y' or premium_member=='y'):\n",
    "        return True\n",
    "    elif(premium_member=='N' or premium_member=='n'):\n",
    "        return False\n",
    "    else:\n",
    "        \n",
    "        print('\\nPlease enter a valid selection.\\n')\n",
    "        return premium_members_check()\n",
    "\n",
    "def product_offer():\n",
    "    '''\n",
    "    Checking for product offer qualification.\n",
    "    If premium member, they qualify. \n",
    "    If offer has not expired and bought two items they qualify\n",
    "    Else They dont qualify\n",
    "    Only prints if offer qualify's.\n",
    "    Rejections get printed in the other functions it calls. \n",
    "    '''\n",
    "    \n",
    "    # Automatically qualify with premium_member \n",
    "    if(premium_members_check()==True):\n",
    "        print('\\nYou are eligible for the product offer.\\n')\n",
    "        \n",
    "        \n",
    "    # if offer expired is True then the offer has not expired.\n",
    "    # if two item is true then they have more than two items.\n",
    "    elif(offer_expired_check() == True and two_item_check() == True):\n",
    "        print('\\nYou are eligible for the product offer.\\n')\n",
    "        "
   ]
  },
  {
   "cell_type": "code",
   "execution_count": 18,
   "id": "928942d0",
   "metadata": {},
   "outputs": [
    {
     "name": "stdout",
     "output_type": "stream",
     "text": [
      "\n",
      "Are you a premium member? Enter y/n only.\n",
      "\n",
      "y\n",
      "\n",
      "You are eligible for the product offer.\n",
      "\n"
     ]
    }
   ],
   "source": [
    "product_offer()"
   ]
  },
  {
   "cell_type": "code",
   "execution_count": 19,
   "id": "9223b4fe",
   "metadata": {},
   "outputs": [
    {
     "name": "stdout",
     "output_type": "stream",
     "text": [
      "\n",
      "Are you a premium member? Enter y/n only.\n",
      "\n",
      "n\n",
      "\n",
      "Is your offer expired? Enter y/n only.\n",
      "\n",
      "n\n",
      "\n",
      "Did you buy more than two items? Enter y/n only.\n",
      "\n",
      "y\n",
      "\n",
      "You are eligible for the product offer.\n",
      "\n"
     ]
    }
   ],
   "source": [
    "product_offer()"
   ]
  }
 ],
 "metadata": {
  "kernelspec": {
   "display_name": "Python 3",
   "language": "python",
   "name": "python3"
  },
  "language_info": {
   "codemirror_mode": {
    "name": "ipython",
    "version": 3
   },
   "file_extension": ".py",
   "mimetype": "text/x-python",
   "name": "python",
   "nbconvert_exporter": "python",
   "pygments_lexer": "ipython3",
   "version": "3.8.8"
  }
 },
 "nbformat": 4,
 "nbformat_minor": 5
}
