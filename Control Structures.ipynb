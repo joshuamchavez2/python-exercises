{
 "cells": [
  {
   "cell_type": "markdown",
   "id": "dcf06c9a",
   "metadata": {},
   "source": [
    "# Python - Control Structures"
   ]
  },
  {
   "cell_type": "code",
   "execution_count": 3,
   "id": "ba6e2eaa",
   "metadata": {},
   "outputs": [],
   "source": [
    "# Welcome to pyton basics, going back to make things look nicer and to add more comments to my work."
   ]
  },
  {
   "cell_type": "markdown",
   "id": "ed623b56",
   "metadata": {},
   "source": [
    "#### Prompt the user for a day of the week, print out whether the day is Monday or not"
   ]
  },
  {
   "cell_type": "code",
   "execution_count": 1,
   "id": "6bd00290",
   "metadata": {},
   "outputs": [
    {
     "name": "stdout",
     "output_type": "stream",
     "text": [
      "Enter a day of the week>\n",
      "Tuesday\n",
      "You did not type Monday....the best day of the week. So sad...Tuesday is not as cool\n"
     ]
    }
   ],
   "source": [
    "# Prompt the user for a day of the week\n",
    "day_of_the_week = input(\"Enter a day of the week>\\n\")\n",
    "\n",
    "# Print out whether the day is Monday or not\n",
    "if day_of_the_week.lower() == \"monday\":\n",
    "    print(\"You typed Monday!\")\n",
    "else:\n",
    "    print(f\"You did not type Monday....the best day of the week. So sad...{day_of_the_week} is not as cool\")"
   ]
  },
  {
   "cell_type": "markdown",
   "id": "a5b7ec32",
   "metadata": {},
   "source": [
    "#### Prompt the user for a day of the week, print out whether the day is a weekday or a weekend"
   ]
  },
  {
   "cell_type": "code",
   "execution_count": 2,
   "id": "e129b18f",
   "metadata": {},
   "outputs": [
    {
     "name": "stdout",
     "output_type": "stream",
     "text": [
      "Enter a day of the week>\n",
      "Wednesday\n",
      "Wednesday is a weekday\n"
     ]
    }
   ],
   "source": [
    "# Prompt the user for a day of the week\n",
    "weekday_or_weekend = input(\"Enter a day of the week>\\n\")\n",
    "\n",
    "# Created two lists, one for weekday and one for weekend\n",
    "weekday =[\"monday\", \"tuesday\", \"wednesday\", \"thursday\", \"friday\"]\n",
    "weekend =[\"saturday\", \"sunday\"]\n",
    "\n",
    "# Checking to see if the input was a weekday or weekend\n",
    "if weekday_or_weekend.lower() in weekday:\n",
    "    print(f\"{weekday_or_weekend} is a weekday\")\n",
    "\n",
    "elif weekday_or_weekend.lower() in weekend:\n",
    "    print(f\"{weekday_or_weekend} is a weekend\")\n",
    "    \n",
    "else:\n",
    "    print(\"You did not type a day of the week.\")"
   ]
  },
  {
   "cell_type": "markdown",
   "id": "7463ac54",
   "metadata": {},
   "source": [
    "#### Create variables and make up values for the number of hours worked in one week the hourly rate how much the week's paycheck will be write the python code that calculates the weekly paycheck.\n",
    "#### You get paid time and a half if you work more than 40 hours"
   ]
  },
  {
   "cell_type": "code",
   "execution_count": 8,
   "id": "e139ac85",
   "metadata": {},
   "outputs": [],
   "source": [
    "def weekly_paycheck(hours_worked_in_week, hourly_rate):\n",
    "    '''\n",
    "    This function will take in hours_worked_in_week and check to see if its more than 40.\n",
    "    If it is then it will multiply the pay by time and half.\n",
    "    Else it will multiply hours_worked_in_week by hourly_rate.\n",
    "    '''\n",
    "    if(hours_worked_in_week > 40):\n",
    "        return hours_worked_in_week * hourly_rate * 1.5\n",
    "    else:\n",
    "        return hours_worked_in_week * hourly_rate"
   ]
  },
  {
   "cell_type": "code",
   "execution_count": 9,
   "id": "06fcfe41",
   "metadata": {},
   "outputs": [
    {
     "name": "stdout",
     "output_type": "stream",
     "text": [
      "Hours worked: 41\n",
      "Hourly rate: 39\n",
      "Total pay: 2398.5\n"
     ]
    }
   ],
   "source": [
    "# Created a random value for hours worked in a week\n",
    "hours_worked_in_week = 41\n",
    "\n",
    "# Created a random value for hourly rate\n",
    "hourly_rate = 39\n",
    "\n",
    "# total_pay holding the returned value\n",
    "total_pay = weekly_paycheck(hours_worked_in_week, hourly_rate)\n",
    "\n",
    "print(f\"Hours worked: {hours_worked_in_week}\")\n",
    "print(f\"Hourly rate: {hourly_rate}\")\n",
    "print(f\"Total pay: {total_pay}\")"
   ]
  },
  {
   "cell_type": "markdown",
   "id": "cbabdb5f",
   "metadata": {},
   "source": [
    "### Loop Basics - While"
   ]
  },
  {
   "cell_type": "markdown",
   "id": "e299435a",
   "metadata": {},
   "source": [
    "#### Create an integer variable i with a value of 5.\n",
    "#### Create a while loop that runs so long as i is less than or equal to 15 Each loop iteration, output the current value of i, then increment i by one."
   ]
  },
  {
   "cell_type": "code",
   "execution_count": 10,
   "id": "8bb28a25",
   "metadata": {},
   "outputs": [
    {
     "name": "stdout",
     "output_type": "stream",
     "text": [
      "5\n",
      "6\n",
      "7\n",
      "8\n",
      "9\n",
      "10\n",
      "11\n",
      "12\n",
      "13\n",
      "14\n",
      "15\n"
     ]
    }
   ],
   "source": [
    "i = 5\n",
    "while(i <= 15):\n",
    "    print(i)\n",
    "    i += 1"
   ]
  },
  {
   "cell_type": "markdown",
   "id": "3dd38991",
   "metadata": {},
   "source": [
    "#### Create a while loop that will count by 2's starting with 0 and ending at 100. Follow each number with a new line."
   ]
  },
  {
   "cell_type": "code",
   "execution_count": 11,
   "id": "b81cd89f",
   "metadata": {},
   "outputs": [
    {
     "name": "stdout",
     "output_type": "stream",
     "text": [
      "0\n",
      "2\n",
      "4\n",
      "6\n",
      "8\n",
      "10\n",
      "12\n",
      "14\n",
      "16\n",
      "18\n",
      "20\n",
      "22\n",
      "24\n",
      "26\n",
      "28\n",
      "30\n",
      "32\n",
      "34\n",
      "36\n",
      "38\n",
      "40\n",
      "42\n",
      "44\n",
      "46\n",
      "48\n",
      "50\n",
      "52\n",
      "54\n",
      "56\n",
      "58\n",
      "60\n",
      "62\n",
      "64\n",
      "66\n",
      "68\n",
      "70\n",
      "72\n",
      "74\n",
      "76\n",
      "78\n",
      "80\n",
      "82\n",
      "84\n",
      "86\n",
      "88\n",
      "90\n",
      "92\n",
      "94\n",
      "96\n",
      "98\n",
      "100\n"
     ]
    }
   ],
   "source": [
    "i=0\n",
    "while i <=100:\n",
    "    print(i)\n",
    "    i += 2"
   ]
  },
  {
   "cell_type": "code",
   "execution_count": 12,
   "id": "ee381b0d",
   "metadata": {},
   "outputs": [
    {
     "name": "stdout",
     "output_type": "stream",
     "text": [
      "100\n",
      "95\n",
      "90\n",
      "85\n",
      "80\n",
      "75\n",
      "70\n",
      "65\n",
      "60\n",
      "55\n",
      "50\n",
      "45\n",
      "40\n",
      "35\n",
      "30\n",
      "25\n",
      "20\n",
      "15\n",
      "10\n",
      "5\n",
      "0\n",
      "-5\n",
      "-10\n"
     ]
    }
   ],
   "source": [
    "# Alter your loop to count backwards by 5's from 100 to -10.\n",
    "\n",
    "i = 100\n",
    "while i >= -10:\n",
    "    print(i)\n",
    "    i-=5"
   ]
  },
  {
   "cell_type": "markdown",
   "id": "90b27074",
   "metadata": {},
   "source": [
    "#### Create a while loop that starts at 2, and displays the number squared on each line while the number is less than 1,000,000."
   ]
  },
  {
   "cell_type": "code",
   "execution_count": 13,
   "id": "daaecd12",
   "metadata": {},
   "outputs": [
    {
     "name": "stdout",
     "output_type": "stream",
     "text": [
      "2\n",
      "4\n",
      "16\n",
      "256\n",
      "65536\n"
     ]
    }
   ],
   "source": [
    "i=2\n",
    "while i <= 1000000:\n",
    "    print(i)\n",
    "    i **= 2"
   ]
  },
  {
   "cell_type": "code",
   "execution_count": null,
   "id": "c04c4fb1",
   "metadata": {},
   "outputs": [],
   "source": [
    "# Write a loop that uses print to create the output shown below."
   ]
  },
  {
   "cell_type": "markdown",
   "id": "d27837da",
   "metadata": {},
   "source": [
    "    100\n",
    "    95\n",
    "    90\n",
    "    85\n",
    "    80\n",
    "    75\n",
    "    70\n",
    "    65\n",
    "    60\n",
    "    55\n",
    "    50\n",
    "    45\n",
    "    40\n",
    "    35\n",
    "    30\n",
    "    25\n",
    "    20\n",
    "    15\n",
    "    10\n",
    "    5"
   ]
  },
  {
   "cell_type": "code",
   "execution_count": 15,
   "id": "14ebdf85",
   "metadata": {},
   "outputs": [
    {
     "name": "stdout",
     "output_type": "stream",
     "text": [
      "100\n",
      "95\n",
      "90\n",
      "85\n",
      "80\n",
      "75\n",
      "70\n",
      "65\n",
      "60\n",
      "55\n",
      "50\n",
      "45\n",
      "40\n",
      "35\n",
      "30\n",
      "25\n",
      "20\n",
      "15\n",
      "10\n",
      "5\n"
     ]
    }
   ],
   "source": [
    "i=100\n",
    "while i >= 5:\n",
    "    print(i)\n",
    "    i -= 5"
   ]
  },
  {
   "cell_type": "markdown",
   "id": "649503ed",
   "metadata": {},
   "source": [
    "### Loops - For"
   ]
  },
  {
   "cell_type": "markdown",
   "id": "c913a7a3",
   "metadata": {},
   "source": [
    "#### Write some code that prompts the user for a number, then shows a multiplication table up through 10 for that number."
   ]
  },
  {
   "cell_type": "code",
   "execution_count": 17,
   "id": "93098b04",
   "metadata": {},
   "outputs": [
    {
     "name": "stdout",
     "output_type": "stream",
     "text": [
      "Select a number>15\n",
      "15 x 1 = 15\n",
      "15 x 2 = 30\n",
      "15 x 3 = 45\n",
      "15 x 4 = 60\n",
      "15 x 5 = 75\n",
      "15 x 6 = 90\n",
      "15 x 7 = 105\n",
      "15 x 8 = 120\n",
      "15 x 9 = 135\n",
      "15 x 10 = 150\n"
     ]
    }
   ],
   "source": [
    "# Prompt user for a number\n",
    "number = input(\"Select a number>\")\n",
    "\n",
    "# Check to see if that number is a digit, if so, run a while loop\n",
    "if number.isdigit():\n",
    "    \n",
    "    # Starting at one and going to ten\n",
    "    i=1\n",
    "    while i<=10:\n",
    "        \n",
    "        # Print the number times the i and multiply that number times i\n",
    "        print(f\"{number} x {i} = {int(number) * i}\")\n",
    "        \n",
    "        # Increase i by one\n",
    "        i+=1\n",
    "# Anything other than a digit will get an error message\n",
    "else:\n",
    "    print(\"you did not enter a number.\")"
   ]
  },
  {
   "cell_type": "markdown",
   "id": "311f0278",
   "metadata": {},
   "source": [
    "#### Create a for loop that uses print to create the output shown below."
   ]
  },
  {
   "cell_type": "markdown",
   "id": "6ed3d4b9",
   "metadata": {},
   "source": [
    "    1\n",
    "    22\n",
    "    333\n",
    "    4444\n",
    "    55555\n",
    "    666666\n",
    "    7777777\n",
    "    88888888\n",
    "    999999999"
   ]
  },
  {
   "cell_type": "code",
   "execution_count": 18,
   "id": "c3021fb5",
   "metadata": {},
   "outputs": [
    {
     "name": "stdout",
     "output_type": "stream",
     "text": [
      "1\n",
      "22\n",
      "333\n",
      "4444\n",
      "55555\n",
      "666666\n",
      "7777777\n",
      "88888888\n",
      "999999999\n"
     ]
    }
   ],
   "source": [
    "i=1\n",
    "for i in range(1, 10):\n",
    "    print(str(i) * i)"
   ]
  },
  {
   "cell_type": "markdown",
   "id": "6a8632af",
   "metadata": {},
   "source": [
    "#### Prompt the user for an odd number between 1 and 50. Use a loop and a break statement to continue prompting the user if they enter invalid input.\n",
    "#### (Hint: use the isdigit method on strings to determine this)\n",
    "#### Use a loop and the continue statement to output all the odd numbers between 1 and 50, except for the number the user entered."
   ]
  },
  {
   "cell_type": "code",
   "execution_count": 1,
   "id": "561a5e18",
   "metadata": {},
   "outputs": [
    {
     "name": "stdout",
     "output_type": "stream",
     "text": [
      "Select an odd number between 1 and 50>33\n",
      "Here is an odd number: 1\n",
      "Here is an odd number: 3\n",
      "Here is an odd number: 5\n",
      "Here is an odd number: 7\n",
      "Here is an odd number: 9\n",
      "Here is an odd number: 11\n",
      "Here is an odd number: 13\n",
      "Here is an odd number: 15\n",
      "Here is an odd number: 17\n",
      "Here is an odd number: 19\n",
      "Here is an odd number: 21\n",
      "Here is an odd number: 23\n",
      "Here is an odd number: 25\n",
      "Here is an odd number: 27\n",
      "Here is an odd number: 29\n",
      "Here is an odd number: 31\n",
      "Yikes! Skipping number: 33\n",
      "Here is an odd number: 35\n",
      "Here is an odd number: 37\n",
      "Here is an odd number: 39\n",
      "Here is an odd number: 41\n",
      "Here is an odd number: 43\n",
      "Here is an odd number: 45\n",
      "Here is an odd number: 47\n",
      "Here is an odd number: 49\n"
     ]
    }
   ],
   "source": [
    "# Prompt the user for a number between 1 & 50\n",
    "number_to_skip = input(\"Select an odd number between 1 and 50>\")\n",
    "\n",
    "# Checking if input is a digit\n",
    "if number_to_skip.isdigit():\n",
    "    \n",
    "    # Checking if the number is odd & if its in range 1 to 50\n",
    "    if int(number_to_skip) % 2 != 0 and int(number_to_skip) in range(1,51):\n",
    "        \n",
    "        # Starting the Loop at 1 and going to 50 adding two to one each time.\n",
    "        number = 1 \n",
    "        while number <=50:\n",
    "            \n",
    "            # When the number to skip equals the index of loop print message\n",
    "            if number == int(number_to_skip):\n",
    "                print(f\"Yikes! Skipping number: {number_to_skip}\")\n",
    "            # Else display the current odd number index\n",
    "            else:\n",
    "                print(f\"Here is an odd number: {number}\")\n",
    "            # Add two\n",
    "            number +=2\n",
    "    # Else means the number is not odd & not in range 1 to 50\n",
    "    else:\n",
    "        print(\"Your number is not odd and/or is not between 1 and 50\")\n",
    "# If input is not a digit, display error message\n",
    "else:\n",
    "    print(\"You did not enter a number\")"
   ]
  },
  {
   "cell_type": "markdown",
   "id": "077462a1",
   "metadata": {},
   "source": [
    "#### The input function can be used to prompt for input and use that input in your python code.\n",
    "#### Prompt the user to enter a positive number and write a loop that counts from 0 to that number.\n",
    "#### (Hints: first make sure that the value the user entered is a valid number, also note that the input function returns a string, so you'll need to convert this to a numeric type.)"
   ]
  },
  {
   "cell_type": "code",
   "execution_count": 2,
   "id": "d5709c78",
   "metadata": {},
   "outputs": [
    {
     "name": "stdout",
     "output_type": "stream",
     "text": [
      "Please enter a number>10\n",
      "0\n",
      "1\n",
      "2\n",
      "3\n",
      "4\n",
      "5\n",
      "6\n",
      "7\n",
      "8\n",
      "9\n",
      "10\n"
     ]
    }
   ],
   "source": [
    "# prompt user for a number\n",
    "entered_number = input(\"Please enter a number>\")\n",
    "\n",
    "# Check if input (entered_number) is actually a digit\n",
    "if entered_number.isdigit():\n",
    "    \n",
    "    # Print values from 0 to the input number\n",
    "    for i in range(0, int(entered_number)+1):\n",
    "        print(i)\n",
    "# If input value is not a number, display error message\n",
    "else:\n",
    "    print(\"You did not enter a numeric value.\")"
   ]
  },
  {
   "cell_type": "markdown",
   "id": "7a0dc23a",
   "metadata": {},
   "source": [
    "#### Write a program that prompts the user for a positive integer.\n",
    "#### Next write a loop that prints out the numbers from the number the user entered down to 1."
   ]
  },
  {
   "cell_type": "code",
   "execution_count": 4,
   "id": "7a17432c",
   "metadata": {},
   "outputs": [
    {
     "name": "stdout",
     "output_type": "stream",
     "text": [
      "Please enter a positive integer>10\n",
      "10\n",
      "9\n",
      "8\n",
      "7\n",
      "6\n",
      "5\n",
      "4\n",
      "3\n",
      "2\n",
      "1\n"
     ]
    }
   ],
   "source": [
    "# Prompting the user for a positie integer\n",
    "positive_integar = input(\"Please enter a positive integer>\")\n",
    "\n",
    "# Checking to see if input is a digit\n",
    "if positive_integar.isdigit():\n",
    "    \n",
    "    # Next checking to see if the input value is greater than zero\n",
    "    if int(positive_integar)>0:\n",
    "        \n",
    "        # Printing from input value to one\n",
    "        i = int(positive_integar)\n",
    "        while int(i) >= 1:\n",
    "            print(i)\n",
    "            i -= 1\n",
    "    # If user input was not greater than zero, print error message\n",
    "    else:\n",
    "        print(\"You did not enter a positive integer\")\n",
    "        \n",
    "# If user input was not an ingeter, print error message\n",
    "else:\n",
    "    print(\"You did not enter numeric value.\")"
   ]
  },
  {
   "cell_type": "markdown",
   "id": "6df21ddb",
   "metadata": {},
   "source": [
    "#### Fizzbuzz\n",
    "    One of the most common interview questions for entry-level programmers is the FizzBuzz test.  Developed by Imran Ghory, the test is designed to test basic looping and conditional logic skills.\n",
    "\n",
    "#### Write a program that prints the numbers from 1 to 100.\n",
    "#### For multiples of three print \"Fizz\" instead of the number\n",
    "#### For the multiples of five print \"Buzz\".\n",
    "#### For numbers which are multiples of both three and five print \"FizzBuzz\"."
   ]
  },
  {
   "cell_type": "code",
   "execution_count": 5,
   "id": "92f5c959",
   "metadata": {},
   "outputs": [
    {
     "name": "stdout",
     "output_type": "stream",
     "text": [
      "1\n",
      "2\n",
      "Fizz\n",
      "4\n",
      "Buzz\n",
      "Fizz\n",
      "7\n",
      "8\n",
      "Fizz\n",
      "Buzz\n",
      "11\n",
      "Fizz\n",
      "13\n",
      "14\n",
      "FizzBuzz\n",
      "16\n",
      "17\n",
      "Fizz\n",
      "19\n",
      "Buzz\n",
      "Fizz\n",
      "22\n",
      "23\n",
      "Fizz\n",
      "Buzz\n",
      "26\n",
      "Fizz\n",
      "28\n",
      "29\n",
      "FizzBuzz\n",
      "31\n",
      "32\n",
      "Fizz\n",
      "34\n",
      "Buzz\n",
      "Fizz\n",
      "37\n",
      "38\n",
      "Fizz\n",
      "Buzz\n",
      "41\n",
      "Fizz\n",
      "43\n",
      "44\n",
      "FizzBuzz\n",
      "46\n",
      "47\n",
      "Fizz\n",
      "49\n",
      "Buzz\n",
      "Fizz\n",
      "52\n",
      "53\n",
      "Fizz\n",
      "Buzz\n",
      "56\n",
      "Fizz\n",
      "58\n",
      "59\n",
      "FizzBuzz\n",
      "61\n",
      "62\n",
      "Fizz\n",
      "64\n",
      "Buzz\n",
      "Fizz\n",
      "67\n",
      "68\n",
      "Fizz\n",
      "Buzz\n",
      "71\n",
      "Fizz\n",
      "73\n",
      "74\n",
      "FizzBuzz\n",
      "76\n",
      "77\n",
      "Fizz\n",
      "79\n",
      "Buzz\n",
      "Fizz\n",
      "82\n",
      "83\n",
      "Fizz\n",
      "Buzz\n",
      "86\n",
      "Fizz\n",
      "88\n",
      "89\n",
      "FizzBuzz\n",
      "91\n",
      "92\n",
      "Fizz\n",
      "94\n",
      "Buzz\n",
      "Fizz\n",
      "97\n",
      "98\n",
      "Fizz\n",
      "Buzz\n"
     ]
    }
   ],
   "source": [
    "# Creating a list from 1 to 100\n",
    "numbers = list(range(1, 101))\n",
    "\n",
    "# Creating an empty list\n",
    "newlist=[]\n",
    "\n",
    "# Looping through 1-100 and when the condition is met, save to newlist\n",
    "for number in numbers:\n",
    "    \n",
    "    # First check if number is divisible by 3 and 5\n",
    "    if number % 3 == 0 and number % 5 ==0:\n",
    "        newlist.append(\"FizzBuzz\")\n",
    "    # Then check for 3's\n",
    "    elif number % 3 == 0:\n",
    "        newlist.append(\"Fizz\")\n",
    "    # Then check for 5's\n",
    "    elif number % 5 == 0:\n",
    "        newlist.append(\"Buzz\")\n",
    "    # All else\n",
    "    else:\n",
    "        newlist.append(number)\n",
    "\n",
    "# Print newlist\n",
    "for value in range(len(newlist)):\n",
    "    print(newlist[value])"
   ]
  },
  {
   "cell_type": "markdown",
   "id": "5ccdd1c9",
   "metadata": {},
   "source": [
    "#### Display a table of powers.\n",
    "#### Prompt the user to enter an integer.\n",
    "#### Display a table of squares and cubes from 1 to the value entered.\n",
    "#### Ask if the user wants to continue.\n",
    "#### Assume that the user will enter valid data.\n",
    "#### Only continue if the user agrees to.\n",
    "#### Example Output\n",
    "#### What number would you like to go up to? 5"
   ]
  },
  {
   "cell_type": "code",
   "execution_count": 23,
   "id": "0c6eead3",
   "metadata": {},
   "outputs": [
    {
     "name": "stdout",
     "output_type": "stream",
     "text": [
      "what number would you like to go up too?>13\n",
      "number |squared|cubed\n",
      "-------|-------|------\n",
      "1      |   1   |  1\n",
      "2      |   4   |  8\n",
      "3      |   9   | 27\n",
      "4      |  16   | 64\n",
      "5      |  25   |125\n",
      "6      |  36   |216\n",
      "7      |  49   |343\n",
      "8      |  64   |512\n",
      "9      |  81   |729\n",
      "10     |  100  |1000\n",
      "11     |  121  |1331\n",
      "12     |  144  |1728\n",
      "13     |  169  |2197\n",
      "Enter quit to exit or yes to continue>quit\n"
     ]
    }
   ],
   "source": [
    "# Prompt user for a number to go up to. \n",
    "number = input(\"what number would you like to go up too?>\")\n",
    "\n",
    "# Turn that input into a number\n",
    "num = int(number)\n",
    "\n",
    "# Start while loop index at 1\n",
    "index = 1\n",
    "\n",
    "# Set stop condition to false\n",
    "stop_condition = False\n",
    "\n",
    "# Start Loop while stop condition is false\n",
    "while (stop_condition == False):\n",
    "    \n",
    "    # Type cast number into int\n",
    "    num = int(number)\n",
    "    \n",
    "    \n",
    "    #print(\"number  | squared  | cubed\")\n",
    "    #print(\"------  | -------  | -----\")\n",
    "    print(f\"{'number': <7}|{'squared': ^7}|{'cubed': >3}\")\n",
    "    print(f\"{'-------': <7}|{'-------': ^7}|{'------': >3}\")\n",
    "    while index <= num:\n",
    "    #print(f\"{index}      | {index**2}      | {index**3}\")  \n",
    "        print(f\"{index: <7}|{index**2: ^7}|{index**3: >3}\")\n",
    "        index +=1\n",
    "    stop_loop = input(\"Enter quit to exit or yes to continue>\")\n",
    "    if stop_loop.lower() == 'quit':\n",
    "        stop_condition = True\n",
    "    elif stop_loop.lower() == 'yes':\n",
    "        number = input(\"what number would you like to go up too?>\")\n",
    "        index = 1\n",
    "    else: \n",
    "        stop_condition = True"
   ]
  },
  {
   "cell_type": "markdown",
   "id": "5ccc6199",
   "metadata": {},
   "source": [
    "#### Convert given number grades into letter grades.\n",
    "#### Prompt the user for a numerical grade from 0 to 100.\n",
    "#### Display the corresponding letter grade.\n",
    "#### Prompt the user to continue.\n",
    "#### Assume that the user will enter valid integers for the grades.\n",
    "#### The application should only continue if the user agrees to.\n",
    "#### Grade Ranges:"
   ]
  },
  {
   "cell_type": "code",
   "execution_count": 22,
   "id": "c8db8378",
   "metadata": {},
   "outputs": [
    {
     "name": "stdout",
     "output_type": "stream",
     "text": [
      "Enter your numeric grade or quit to exit>82\n",
      "You got an B-\n",
      "Enter your numeric grade or quit to exit>quit\n",
      "you did not enter an numeric value, bye!\n"
     ]
    }
   ],
   "source": [
    "prompt=\"\"\n",
    "while prompt != \"quit\":\n",
    "    prompt = input(\"Enter your numeric grade or quit to exit>\")\n",
    "    if prompt.isdigit() == False:\n",
    "        print(\"you did not enter an numeric value, bye!\")\n",
    "        break\n",
    "    grade = int(prompt)\n",
    "    if grade in range(99,101):\n",
    "        print(\"You got an A+\")\n",
    "    elif grade in range(93,99):\n",
    "        print(\"You got an A\")\n",
    "    elif grade in range(90,93):\n",
    "        print(\"You got an A-\")\n",
    "\n",
    "    elif grade in range(88,90):\n",
    "        print(\"You got an B+\")\n",
    "    elif grade in range (83, 88):\n",
    "        print(\"you got a B\")\n",
    "    elif grade in range(80,83):\n",
    "        print(\"You got an B-\")\n",
    "\n",
    "    elif grade in range(78,80):\n",
    "        print(\"You got an C+\")\n",
    "    elif grade in range (73, 78):\n",
    "        print(\"you got a C\")\n",
    "    elif grade in range(70,73):\n",
    "        print(\"You got an C-\")\n",
    "\n",
    "    elif grade in range(68,70):\n",
    "        print(\"You got an D+\")\n",
    "    elif grade in range (63, 68):\n",
    "        print(\"you got a D\")\n",
    "    elif grade in range(60,63):\n",
    "        print(\"You got an D-\")\n",
    "\n",
    "    elif grade in range(58,60):\n",
    "        print(\"You got an F+\")\n",
    "    elif grade in range (50, 58):\n",
    "        print(\"you got a F\")\n",
    "    elif grade in range(0,50):\n",
    "        print(\"You got an F-\")\n",
    "    else:\n",
    "        print(\"Please enter a valid numerical grade ranging from 0-100\")"
   ]
  },
  {
   "cell_type": "markdown",
   "id": "13d65638",
   "metadata": {},
   "source": [
    "#### Edit your grade ranges to include pluses and minuses (ex: 99-100 = A+).\n",
    "#### Create a list of dictionaries where each dictionary represents a book that you have read.\n",
    "#### Each dictionary in the list should have the keys title, author, and genre. \n",
    "#### Loop through the list and print out information about each book."
   ]
  },
  {
   "cell_type": "markdown",
   "id": "a2c77abf",
   "metadata": {},
   "source": [
    "#### by {book.author} is in the genre of {book.genre}\n",
    "#### Prompt the user to enter a genre, then loop through your books list and print out the titles of all the books in that genre."
   ]
  },
  {
   "cell_type": "code",
   "execution_count": 25,
   "id": "314eebf2",
   "metadata": {},
   "outputs": [
    {
     "name": "stdout",
     "output_type": "stream",
     "text": [
      "Please enter a genre or type quit to exit>romantic\n",
      "Please enter a genre or type quit to exit>tragedy\n",
      "the great gastsby by f. scott fitzgerald is in the genre tragedy\n",
      "Please enter a genre or type quit to exit>quit\n"
     ]
    }
   ],
   "source": [
    "books_read = [\n",
    "    {\n",
    "        \"title\": \"the great gastsby\",\n",
    "        \"author\": \"f. scott fitzgerald\",\n",
    "        \"genre\": \"tragedy\"\n",
    "    },\n",
    "    {\n",
    "        \"title\": \"moby dick\",\n",
    "        \"author\": \"herman melville\",\n",
    "        \"genre\": \"adventure fiction\"\n",
    "\n",
    "    }\n",
    "]\n",
    "input_genre = \"\"\n",
    "while input_genre != 'quit':\n",
    "    input_genre =input(\"Please enter a genre or type quit to exit>\")\n",
    "    for book in books_read:\n",
    "        if input_genre.lower() == book['genre']:\n",
    "            print(f\"{book['title']} by {book['author']} is in the genre {book['genre']}\")"
   ]
  }
 ],
 "metadata": {
  "kernelspec": {
   "display_name": "Python 3",
   "language": "python",
   "name": "python3"
  },
  "language_info": {
   "codemirror_mode": {
    "name": "ipython",
    "version": 3
   },
   "file_extension": ".py",
   "mimetype": "text/x-python",
   "name": "python",
   "nbconvert_exporter": "python",
   "pygments_lexer": "ipython3",
   "version": "3.8.8"
  }
 },
 "nbformat": 4,
 "nbformat_minor": 5
}
